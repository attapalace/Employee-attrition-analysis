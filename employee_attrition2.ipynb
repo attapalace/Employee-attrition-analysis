{
 "cells": [
  {
   "cell_type": "code",
   "execution_count": 1,
   "id": "friendly-tanzania",
   "metadata": {},
   "outputs": [
    {
     "data": {
      "text/html": [
       "<div>\n",
       "<style scoped>\n",
       "    .dataframe tbody tr th:only-of-type {\n",
       "        vertical-align: middle;\n",
       "    }\n",
       "\n",
       "    .dataframe tbody tr th {\n",
       "        vertical-align: top;\n",
       "    }\n",
       "\n",
       "    .dataframe thead th {\n",
       "        text-align: right;\n",
       "    }\n",
       "</style>\n",
       "<table border=\"1\" class=\"dataframe\">\n",
       "  <thead>\n",
       "    <tr style=\"text-align: right;\">\n",
       "      <th></th>\n",
       "      <th>index_column</th>\n",
       "      <th>employee_age</th>\n",
       "      <th>attrition</th>\n",
       "      <th>travel_in_job</th>\n",
       "      <th>employee_department</th>\n",
       "      <th>distance_from_home</th>\n",
       "      <th>employee_education</th>\n",
       "      <th>workplace_satisfaction</th>\n",
       "      <th>gender</th>\n",
       "      <th>employee_job_involvement</th>\n",
       "      <th>...</th>\n",
       "      <th>performance_rating</th>\n",
       "      <th>relationship_satisfaction</th>\n",
       "      <th>stock_option_level</th>\n",
       "      <th>total_working_years</th>\n",
       "      <th>training_times_last_year</th>\n",
       "      <th>work_life_balance</th>\n",
       "      <th>years_at_company</th>\n",
       "      <th>years_in_current_role</th>\n",
       "      <th>years_since_last_promotion</th>\n",
       "      <th>years_with_current_manager</th>\n",
       "    </tr>\n",
       "  </thead>\n",
       "  <tbody>\n",
       "    <tr>\n",
       "      <th>0</th>\n",
       "      <td>1</td>\n",
       "      <td>41</td>\n",
       "      <td>Yes</td>\n",
       "      <td>rarely</td>\n",
       "      <td>Sales Department</td>\n",
       "      <td>1</td>\n",
       "      <td>2</td>\n",
       "      <td>2</td>\n",
       "      <td>Female</td>\n",
       "      <td>3</td>\n",
       "      <td>...</td>\n",
       "      <td>3</td>\n",
       "      <td>1</td>\n",
       "      <td>0</td>\n",
       "      <td>8</td>\n",
       "      <td>0</td>\n",
       "      <td>1</td>\n",
       "      <td>6</td>\n",
       "      <td>4</td>\n",
       "      <td>0</td>\n",
       "      <td>5</td>\n",
       "    </tr>\n",
       "    <tr>\n",
       "      <th>1</th>\n",
       "      <td>2</td>\n",
       "      <td>49</td>\n",
       "      <td>No</td>\n",
       "      <td>frequently</td>\n",
       "      <td>R&amp;D Department</td>\n",
       "      <td>8</td>\n",
       "      <td>1</td>\n",
       "      <td>3</td>\n",
       "      <td>Male</td>\n",
       "      <td>2</td>\n",
       "      <td>...</td>\n",
       "      <td>4</td>\n",
       "      <td>4</td>\n",
       "      <td>1</td>\n",
       "      <td>10</td>\n",
       "      <td>3</td>\n",
       "      <td>3</td>\n",
       "      <td>10</td>\n",
       "      <td>7</td>\n",
       "      <td>1</td>\n",
       "      <td>7</td>\n",
       "    </tr>\n",
       "    <tr>\n",
       "      <th>2</th>\n",
       "      <td>3</td>\n",
       "      <td>37</td>\n",
       "      <td>Yes</td>\n",
       "      <td>rarely</td>\n",
       "      <td>R&amp;D Department</td>\n",
       "      <td>2</td>\n",
       "      <td>2</td>\n",
       "      <td>4</td>\n",
       "      <td>Male</td>\n",
       "      <td>2</td>\n",
       "      <td>...</td>\n",
       "      <td>3</td>\n",
       "      <td>2</td>\n",
       "      <td>0</td>\n",
       "      <td>7</td>\n",
       "      <td>3</td>\n",
       "      <td>3</td>\n",
       "      <td>0</td>\n",
       "      <td>0</td>\n",
       "      <td>0</td>\n",
       "      <td>0</td>\n",
       "    </tr>\n",
       "    <tr>\n",
       "      <th>3</th>\n",
       "      <td>4</td>\n",
       "      <td>33</td>\n",
       "      <td>No</td>\n",
       "      <td>frequently</td>\n",
       "      <td>R&amp;D Department</td>\n",
       "      <td>3</td>\n",
       "      <td>4</td>\n",
       "      <td>4</td>\n",
       "      <td>Female</td>\n",
       "      <td>3</td>\n",
       "      <td>...</td>\n",
       "      <td>3</td>\n",
       "      <td>3</td>\n",
       "      <td>0</td>\n",
       "      <td>8</td>\n",
       "      <td>3</td>\n",
       "      <td>3</td>\n",
       "      <td>8</td>\n",
       "      <td>7</td>\n",
       "      <td>3</td>\n",
       "      <td>0</td>\n",
       "    </tr>\n",
       "    <tr>\n",
       "      <th>4</th>\n",
       "      <td>5</td>\n",
       "      <td>27</td>\n",
       "      <td>No</td>\n",
       "      <td>rarely</td>\n",
       "      <td>R&amp;D Department</td>\n",
       "      <td>2</td>\n",
       "      <td>1</td>\n",
       "      <td>1</td>\n",
       "      <td>Male</td>\n",
       "      <td>3</td>\n",
       "      <td>...</td>\n",
       "      <td>3</td>\n",
       "      <td>4</td>\n",
       "      <td>1</td>\n",
       "      <td>6</td>\n",
       "      <td>3</td>\n",
       "      <td>3</td>\n",
       "      <td>2</td>\n",
       "      <td>2</td>\n",
       "      <td>2</td>\n",
       "      <td>2</td>\n",
       "    </tr>\n",
       "  </tbody>\n",
       "</table>\n",
       "<p>5 rows × 28 columns</p>\n",
       "</div>"
      ],
      "text/plain": [
       "   index_column  employee_age attrition travel_in_job employee_department  \\\n",
       "0             1            41       Yes        rarely    Sales Department   \n",
       "1             2            49        No    frequently      R&D Department   \n",
       "2             3            37       Yes        rarely      R&D Department   \n",
       "3             4            33        No    frequently      R&D Department   \n",
       "4             5            27        No        rarely      R&D Department   \n",
       "\n",
       "   distance_from_home  employee_education  workplace_satisfaction  gender  \\\n",
       "0                   1                   2                       2  Female   \n",
       "1                   8                   1                       3    Male   \n",
       "2                   2                   2                       4    Male   \n",
       "3                   3                   4                       4  Female   \n",
       "4                   2                   1                       1    Male   \n",
       "\n",
       "   employee_job_involvement  ...  performance_rating  \\\n",
       "0                         3  ...                   3   \n",
       "1                         2  ...                   4   \n",
       "2                         2  ...                   3   \n",
       "3                         3  ...                   3   \n",
       "4                         3  ...                   3   \n",
       "\n",
       "  relationship_satisfaction  stock_option_level total_working_years  \\\n",
       "0                         1                   0                   8   \n",
       "1                         4                   1                  10   \n",
       "2                         2                   0                   7   \n",
       "3                         3                   0                   8   \n",
       "4                         4                   1                   6   \n",
       "\n",
       "   training_times_last_year  work_life_balance years_at_company  \\\n",
       "0                         0                  1                6   \n",
       "1                         3                  3               10   \n",
       "2                         3                  3                0   \n",
       "3                         3                  3                8   \n",
       "4                         3                  3                2   \n",
       "\n",
       "   years_in_current_role  years_since_last_promotion  \\\n",
       "0                      4                           0   \n",
       "1                      7                           1   \n",
       "2                      0                           0   \n",
       "3                      7                           3   \n",
       "4                      2                           2   \n",
       "\n",
       "   years_with_current_manager  \n",
       "0                           5  \n",
       "1                           7  \n",
       "2                           0  \n",
       "3                           0  \n",
       "4                           2  \n",
       "\n",
       "[5 rows x 28 columns]"
      ]
     },
     "execution_count": 1,
     "metadata": {},
     "output_type": "execute_result"
    }
   ],
   "source": [
    "import pandas as pd\n",
    "import matplotlib.pyplot as plt\n",
    "import seaborn as sns\n",
    "\n",
    "df = pd.read_excel('Python - ordinary exam - employee-attrition-data.xlsx')\n",
    "#showing the first 5 rows\n",
    "df.head()"
   ]
  },
  {
   "cell_type": "markdown",
   "id": "julian-weapon",
   "metadata": {},
   "source": [
    "## 1- Exploratory data analysis"
   ]
  },
  {
   "cell_type": "code",
   "execution_count": 2,
   "id": "vietnamese-springfield",
   "metadata": {},
   "outputs": [
    {
     "data": {
      "text/plain": [
       "index_column                  0\n",
       "employee_age                  0\n",
       "attrition                     0\n",
       "travel_in_job                 0\n",
       "employee_department           0\n",
       "distance_from_home            0\n",
       "employee_education            0\n",
       "workplace_satisfaction        0\n",
       "gender                        0\n",
       "employee_job_involvement      0\n",
       "job_level                     0\n",
       "job_role                      0\n",
       "job_satisfaction              0\n",
       "marital_status                0\n",
       "monthly_income                0\n",
       "numcompanies_worked           0\n",
       "over_time                     0\n",
       "percent_salary_hike           0\n",
       "performance_rating            0\n",
       "relationship_satisfaction     0\n",
       "stock_option_level            0\n",
       "total_working_years           0\n",
       "training_times_last_year      0\n",
       "work_life_balance             0\n",
       "years_at_company              0\n",
       "years_in_current_role         0\n",
       "years_since_last_promotion    0\n",
       "years_with_current_manager    0\n",
       "dtype: int64"
      ]
     },
     "execution_count": 2,
     "metadata": {},
     "output_type": "execute_result"
    }
   ],
   "source": [
    "#checking for null values\n",
    "df.isnull().sum()"
   ]
  },
  {
   "cell_type": "markdown",
   "id": "impossible-better",
   "metadata": {},
   "source": [
    "The data has no null values"
   ]
  },
  {
   "cell_type": "code",
   "execution_count": 3,
   "id": "sweet-physiology",
   "metadata": {},
   "outputs": [
    {
     "data": {
      "text/plain": [
       "(2558, 28)"
      ]
     },
     "execution_count": 3,
     "metadata": {},
     "output_type": "execute_result"
    }
   ],
   "source": [
    "#shape of the dataframe\n",
    "df.shape"
   ]
  },
  {
   "cell_type": "code",
   "execution_count": 4,
   "id": "animated-rebate",
   "metadata": {},
   "outputs": [
    {
     "name": "stdout",
     "output_type": "stream",
     "text": [
      "<class 'pandas.core.frame.DataFrame'>\n",
      "RangeIndex: 2558 entries, 0 to 2557\n",
      "Data columns (total 28 columns):\n",
      " #   Column                      Non-Null Count  Dtype \n",
      "---  ------                      --------------  ----- \n",
      " 0   index_column                2558 non-null   int64 \n",
      " 1   employee_age                2558 non-null   int64 \n",
      " 2   attrition                   2558 non-null   object\n",
      " 3   travel_in_job               2558 non-null   object\n",
      " 4   employee_department         2558 non-null   object\n",
      " 5   distance_from_home          2558 non-null   int64 \n",
      " 6   employee_education          2558 non-null   int64 \n",
      " 7   workplace_satisfaction      2558 non-null   int64 \n",
      " 8   gender                      2558 non-null   object\n",
      " 9   employee_job_involvement    2558 non-null   int64 \n",
      " 10  job_level                   2558 non-null   int64 \n",
      " 11  job_role                    2558 non-null   object\n",
      " 12  job_satisfaction            2558 non-null   int64 \n",
      " 13  marital_status              2558 non-null   object\n",
      " 14  monthly_income              2558 non-null   int64 \n",
      " 15  numcompanies_worked         2558 non-null   int64 \n",
      " 16  over_time                   2558 non-null   object\n",
      " 17  percent_salary_hike         2558 non-null   int64 \n",
      " 18  performance_rating          2558 non-null   int64 \n",
      " 19  relationship_satisfaction   2558 non-null   int64 \n",
      " 20  stock_option_level          2558 non-null   int64 \n",
      " 21  total_working_years         2558 non-null   int64 \n",
      " 22  training_times_last_year    2558 non-null   int64 \n",
      " 23  work_life_balance           2558 non-null   int64 \n",
      " 24  years_at_company            2558 non-null   int64 \n",
      " 25  years_in_current_role       2558 non-null   int64 \n",
      " 26  years_since_last_promotion  2558 non-null   int64 \n",
      " 27  years_with_current_manager  2558 non-null   int64 \n",
      "dtypes: int64(21), object(7)\n",
      "memory usage: 559.7+ KB\n"
     ]
    }
   ],
   "source": [
    "#checking data types\n",
    "df.info()"
   ]
  },
  {
   "cell_type": "code",
   "execution_count": 5,
   "id": "graduate-simple",
   "metadata": {},
   "outputs": [
    {
     "data": {
      "text/plain": [
       "False    2558\n",
       "dtype: int64"
      ]
     },
     "execution_count": 5,
     "metadata": {},
     "output_type": "execute_result"
    }
   ],
   "source": [
    "#checking for duplicates\n",
    "df.duplicated().value_counts()"
   ]
  },
  {
   "cell_type": "code",
   "execution_count": 6,
   "id": "comfortable-pizza",
   "metadata": {},
   "outputs": [
    {
     "data": {
      "text/plain": [
       "attrition              2\n",
       "travel_in_job          3\n",
       "employee_department    3\n",
       "gender                 2\n",
       "job_role               9\n",
       "marital_status         3\n",
       "over_time              2\n",
       "dtype: int64"
      ]
     },
     "execution_count": 6,
     "metadata": {},
     "output_type": "execute_result"
    }
   ],
   "source": [
    "#check number of unique values in object type columns\n",
    "df.select_dtypes(include='object').nunique()"
   ]
  },
  {
   "cell_type": "code",
   "execution_count": 7,
   "id": "conceptual-consultancy",
   "metadata": {},
   "outputs": [
    {
     "data": {
      "text/plain": [
       "No     2145\n",
       "Yes     413\n",
       "Name: attrition, dtype: int64"
      ]
     },
     "execution_count": 7,
     "metadata": {},
     "output_type": "execute_result"
    }
   ],
   "source": [
    "df['attrition'].value_counts()"
   ]
  },
  {
   "cell_type": "code",
   "execution_count": 8,
   "id": "furnished-ferry",
   "metadata": {},
   "outputs": [],
   "source": [
    "df_copy =df.copy()"
   ]
  },
  {
   "cell_type": "code",
   "execution_count": 9,
   "id": "worldwide-wireless",
   "metadata": {},
   "outputs": [],
   "source": [
    "#let's convert categorical columns to int values to see the correlation with other variables\n",
    "df_copy['attrition'] = df_copy['attrition'].astype('category').cat.codes\n",
    "df_copy['gender'] = df_copy['gender'].astype('category').cat.codes\n",
    "df_copy['over_time'] = df_copy['over_time'].astype('category').cat.codes\n",
    "\n",
    "df_copy['marital_status'] = df_copy['marital_status'].astype('category').cat.codes\n",
    "df_copy['travel_in_job'] = df_copy['travel_in_job'].astype('category').cat.codes\n",
    "df_copy['employee_department'] = df_copy['employee_department'].astype('category').cat.codes\n",
    "df_copy['job_role'] = df_copy['job_role'].astype('category').cat.codes"
   ]
  },
  {
   "cell_type": "code",
   "execution_count": 10,
   "id": "dental-festival",
   "metadata": {},
   "outputs": [
    {
     "data": {
      "text/plain": [
       "0    2145\n",
       "1     413\n",
       "Name: attrition, dtype: int64"
      ]
     },
     "execution_count": 10,
     "metadata": {},
     "output_type": "execute_result"
    }
   ],
   "source": [
    "df_copy['attrition'].value_counts()"
   ]
  },
  {
   "cell_type": "markdown",
   "id": "wanted-hartford",
   "metadata": {},
   "source": [
    "There are no duplicates"
   ]
  },
  {
   "cell_type": "code",
   "execution_count": 11,
   "id": "hawaiian-criterion",
   "metadata": {},
   "outputs": [
    {
     "data": {
      "text/html": [
       "<div>\n",
       "<style scoped>\n",
       "    .dataframe tbody tr th:only-of-type {\n",
       "        vertical-align: middle;\n",
       "    }\n",
       "\n",
       "    .dataframe tbody tr th {\n",
       "        vertical-align: top;\n",
       "    }\n",
       "\n",
       "    .dataframe thead th {\n",
       "        text-align: right;\n",
       "    }\n",
       "</style>\n",
       "<table border=\"1\" class=\"dataframe\">\n",
       "  <thead>\n",
       "    <tr style=\"text-align: right;\">\n",
       "      <th></th>\n",
       "      <th>index_column</th>\n",
       "      <th>employee_age</th>\n",
       "      <th>attrition</th>\n",
       "      <th>travel_in_job</th>\n",
       "      <th>employee_department</th>\n",
       "      <th>distance_from_home</th>\n",
       "      <th>employee_education</th>\n",
       "      <th>workplace_satisfaction</th>\n",
       "      <th>gender</th>\n",
       "      <th>employee_job_involvement</th>\n",
       "      <th>...</th>\n",
       "      <th>performance_rating</th>\n",
       "      <th>relationship_satisfaction</th>\n",
       "      <th>stock_option_level</th>\n",
       "      <th>total_working_years</th>\n",
       "      <th>training_times_last_year</th>\n",
       "      <th>work_life_balance</th>\n",
       "      <th>years_at_company</th>\n",
       "      <th>years_in_current_role</th>\n",
       "      <th>years_since_last_promotion</th>\n",
       "      <th>years_with_current_manager</th>\n",
       "    </tr>\n",
       "  </thead>\n",
       "  <tbody>\n",
       "    <tr>\n",
       "      <th>count</th>\n",
       "      <td>2558.000000</td>\n",
       "      <td>2558.000000</td>\n",
       "      <td>2558.000000</td>\n",
       "      <td>2558.000000</td>\n",
       "      <td>2558.000000</td>\n",
       "      <td>2558.000000</td>\n",
       "      <td>2558.000000</td>\n",
       "      <td>2558.000000</td>\n",
       "      <td>2558.000000</td>\n",
       "      <td>2558.000000</td>\n",
       "      <td>...</td>\n",
       "      <td>2558.000000</td>\n",
       "      <td>2558.000000</td>\n",
       "      <td>2558.000000</td>\n",
       "      <td>2558.000000</td>\n",
       "      <td>2558.000000</td>\n",
       "      <td>2558.000000</td>\n",
       "      <td>2558.000000</td>\n",
       "      <td>2558.000000</td>\n",
       "      <td>2558.000000</td>\n",
       "      <td>2558.000000</td>\n",
       "    </tr>\n",
       "    <tr>\n",
       "      <th>mean</th>\n",
       "      <td>1279.500000</td>\n",
       "      <td>36.803753</td>\n",
       "      <td>0.161454</td>\n",
       "      <td>1.515246</td>\n",
       "      <td>1.261923</td>\n",
       "      <td>9.238858</td>\n",
       "      <td>2.922596</td>\n",
       "      <td>2.710711</td>\n",
       "      <td>0.596169</td>\n",
       "      <td>2.741204</td>\n",
       "      <td>...</td>\n",
       "      <td>3.154808</td>\n",
       "      <td>2.730649</td>\n",
       "      <td>0.811181</td>\n",
       "      <td>11.154027</td>\n",
       "      <td>2.809617</td>\n",
       "      <td>2.752932</td>\n",
       "      <td>6.885457</td>\n",
       "      <td>4.112979</td>\n",
       "      <td>2.201329</td>\n",
       "      <td>4.095387</td>\n",
       "    </tr>\n",
       "    <tr>\n",
       "      <th>std</th>\n",
       "      <td>738.575318</td>\n",
       "      <td>9.067157</td>\n",
       "      <td>0.368021</td>\n",
       "      <td>0.797166</td>\n",
       "      <td>0.529354</td>\n",
       "      <td>8.118285</td>\n",
       "      <td>1.010441</td>\n",
       "      <td>1.101413</td>\n",
       "      <td>0.490760</td>\n",
       "      <td>0.703274</td>\n",
       "      <td>...</td>\n",
       "      <td>0.361793</td>\n",
       "      <td>1.069252</td>\n",
       "      <td>0.869642</td>\n",
       "      <td>7.781261</td>\n",
       "      <td>1.304348</td>\n",
       "      <td>0.702488</td>\n",
       "      <td>5.983926</td>\n",
       "      <td>3.588555</td>\n",
       "      <td>3.253187</td>\n",
       "      <td>3.609872</td>\n",
       "    </tr>\n",
       "    <tr>\n",
       "      <th>min</th>\n",
       "      <td>1.000000</td>\n",
       "      <td>18.000000</td>\n",
       "      <td>0.000000</td>\n",
       "      <td>0.000000</td>\n",
       "      <td>0.000000</td>\n",
       "      <td>1.000000</td>\n",
       "      <td>1.000000</td>\n",
       "      <td>1.000000</td>\n",
       "      <td>0.000000</td>\n",
       "      <td>1.000000</td>\n",
       "      <td>...</td>\n",
       "      <td>3.000000</td>\n",
       "      <td>1.000000</td>\n",
       "      <td>0.000000</td>\n",
       "      <td>0.000000</td>\n",
       "      <td>0.000000</td>\n",
       "      <td>1.000000</td>\n",
       "      <td>0.000000</td>\n",
       "      <td>0.000000</td>\n",
       "      <td>0.000000</td>\n",
       "      <td>0.000000</td>\n",
       "    </tr>\n",
       "    <tr>\n",
       "      <th>25%</th>\n",
       "      <td>640.250000</td>\n",
       "      <td>30.000000</td>\n",
       "      <td>0.000000</td>\n",
       "      <td>1.000000</td>\n",
       "      <td>1.000000</td>\n",
       "      <td>2.000000</td>\n",
       "      <td>2.000000</td>\n",
       "      <td>2.000000</td>\n",
       "      <td>0.000000</td>\n",
       "      <td>2.000000</td>\n",
       "      <td>...</td>\n",
       "      <td>3.000000</td>\n",
       "      <td>2.000000</td>\n",
       "      <td>0.000000</td>\n",
       "      <td>6.000000</td>\n",
       "      <td>2.000000</td>\n",
       "      <td>2.000000</td>\n",
       "      <td>3.000000</td>\n",
       "      <td>2.000000</td>\n",
       "      <td>0.000000</td>\n",
       "      <td>2.000000</td>\n",
       "    </tr>\n",
       "    <tr>\n",
       "      <th>50%</th>\n",
       "      <td>1279.500000</td>\n",
       "      <td>35.000000</td>\n",
       "      <td>0.000000</td>\n",
       "      <td>2.000000</td>\n",
       "      <td>1.000000</td>\n",
       "      <td>7.000000</td>\n",
       "      <td>3.000000</td>\n",
       "      <td>3.000000</td>\n",
       "      <td>1.000000</td>\n",
       "      <td>3.000000</td>\n",
       "      <td>...</td>\n",
       "      <td>3.000000</td>\n",
       "      <td>3.000000</td>\n",
       "      <td>1.000000</td>\n",
       "      <td>10.000000</td>\n",
       "      <td>3.000000</td>\n",
       "      <td>3.000000</td>\n",
       "      <td>5.000000</td>\n",
       "      <td>3.000000</td>\n",
       "      <td>1.000000</td>\n",
       "      <td>3.000000</td>\n",
       "    </tr>\n",
       "    <tr>\n",
       "      <th>75%</th>\n",
       "      <td>1918.750000</td>\n",
       "      <td>43.000000</td>\n",
       "      <td>0.000000</td>\n",
       "      <td>2.000000</td>\n",
       "      <td>2.000000</td>\n",
       "      <td>14.000000</td>\n",
       "      <td>4.000000</td>\n",
       "      <td>4.000000</td>\n",
       "      <td>1.000000</td>\n",
       "      <td>3.000000</td>\n",
       "      <td>...</td>\n",
       "      <td>3.000000</td>\n",
       "      <td>4.000000</td>\n",
       "      <td>1.000000</td>\n",
       "      <td>15.000000</td>\n",
       "      <td>3.000000</td>\n",
       "      <td>3.000000</td>\n",
       "      <td>9.000000</td>\n",
       "      <td>7.000000</td>\n",
       "      <td>3.000000</td>\n",
       "      <td>7.000000</td>\n",
       "    </tr>\n",
       "    <tr>\n",
       "      <th>max</th>\n",
       "      <td>2558.000000</td>\n",
       "      <td>60.000000</td>\n",
       "      <td>1.000000</td>\n",
       "      <td>2.000000</td>\n",
       "      <td>2.000000</td>\n",
       "      <td>29.000000</td>\n",
       "      <td>5.000000</td>\n",
       "      <td>4.000000</td>\n",
       "      <td>1.000000</td>\n",
       "      <td>4.000000</td>\n",
       "      <td>...</td>\n",
       "      <td>4.000000</td>\n",
       "      <td>4.000000</td>\n",
       "      <td>3.000000</td>\n",
       "      <td>40.000000</td>\n",
       "      <td>6.000000</td>\n",
       "      <td>4.000000</td>\n",
       "      <td>40.000000</td>\n",
       "      <td>18.000000</td>\n",
       "      <td>15.000000</td>\n",
       "      <td>17.000000</td>\n",
       "    </tr>\n",
       "  </tbody>\n",
       "</table>\n",
       "<p>8 rows × 28 columns</p>\n",
       "</div>"
      ],
      "text/plain": [
       "       index_column  employee_age    attrition  travel_in_job  \\\n",
       "count   2558.000000   2558.000000  2558.000000    2558.000000   \n",
       "mean    1279.500000     36.803753     0.161454       1.515246   \n",
       "std      738.575318      9.067157     0.368021       0.797166   \n",
       "min        1.000000     18.000000     0.000000       0.000000   \n",
       "25%      640.250000     30.000000     0.000000       1.000000   \n",
       "50%     1279.500000     35.000000     0.000000       2.000000   \n",
       "75%     1918.750000     43.000000     0.000000       2.000000   \n",
       "max     2558.000000     60.000000     1.000000       2.000000   \n",
       "\n",
       "       employee_department  distance_from_home  employee_education  \\\n",
       "count          2558.000000         2558.000000         2558.000000   \n",
       "mean              1.261923            9.238858            2.922596   \n",
       "std               0.529354            8.118285            1.010441   \n",
       "min               0.000000            1.000000            1.000000   \n",
       "25%               1.000000            2.000000            2.000000   \n",
       "50%               1.000000            7.000000            3.000000   \n",
       "75%               2.000000           14.000000            4.000000   \n",
       "max               2.000000           29.000000            5.000000   \n",
       "\n",
       "       workplace_satisfaction       gender  employee_job_involvement  ...  \\\n",
       "count             2558.000000  2558.000000               2558.000000  ...   \n",
       "mean                 2.710711     0.596169                  2.741204  ...   \n",
       "std                  1.101413     0.490760                  0.703274  ...   \n",
       "min                  1.000000     0.000000                  1.000000  ...   \n",
       "25%                  2.000000     0.000000                  2.000000  ...   \n",
       "50%                  3.000000     1.000000                  3.000000  ...   \n",
       "75%                  4.000000     1.000000                  3.000000  ...   \n",
       "max                  4.000000     1.000000                  4.000000  ...   \n",
       "\n",
       "       performance_rating  relationship_satisfaction  stock_option_level  \\\n",
       "count         2558.000000                2558.000000         2558.000000   \n",
       "mean             3.154808                   2.730649            0.811181   \n",
       "std              0.361793                   1.069252            0.869642   \n",
       "min              3.000000                   1.000000            0.000000   \n",
       "25%              3.000000                   2.000000            0.000000   \n",
       "50%              3.000000                   3.000000            1.000000   \n",
       "75%              3.000000                   4.000000            1.000000   \n",
       "max              4.000000                   4.000000            3.000000   \n",
       "\n",
       "       total_working_years  training_times_last_year  work_life_balance  \\\n",
       "count          2558.000000               2558.000000        2558.000000   \n",
       "mean             11.154027                  2.809617           2.752932   \n",
       "std               7.781261                  1.304348           0.702488   \n",
       "min               0.000000                  0.000000           1.000000   \n",
       "25%               6.000000                  2.000000           2.000000   \n",
       "50%              10.000000                  3.000000           3.000000   \n",
       "75%              15.000000                  3.000000           3.000000   \n",
       "max              40.000000                  6.000000           4.000000   \n",
       "\n",
       "       years_at_company  years_in_current_role  years_since_last_promotion  \\\n",
       "count       2558.000000            2558.000000                 2558.000000   \n",
       "mean           6.885457               4.112979                    2.201329   \n",
       "std            5.983926               3.588555                    3.253187   \n",
       "min            0.000000               0.000000                    0.000000   \n",
       "25%            3.000000               2.000000                    0.000000   \n",
       "50%            5.000000               3.000000                    1.000000   \n",
       "75%            9.000000               7.000000                    3.000000   \n",
       "max           40.000000              18.000000                   15.000000   \n",
       "\n",
       "       years_with_current_manager  \n",
       "count                 2558.000000  \n",
       "mean                     4.095387  \n",
       "std                      3.609872  \n",
       "min                      0.000000  \n",
       "25%                      2.000000  \n",
       "50%                      3.000000  \n",
       "75%                      7.000000  \n",
       "max                     17.000000  \n",
       "\n",
       "[8 rows x 28 columns]"
      ]
     },
     "execution_count": 11,
     "metadata": {},
     "output_type": "execute_result"
    }
   ],
   "source": [
    "df_copy.describe()"
   ]
  },
  {
   "cell_type": "code",
   "execution_count": 12,
   "id": "polish-triple",
   "metadata": {},
   "outputs": [
    {
     "data": {
      "image/png": "[encoded data removed]",
      "text/plain": [
       "<Figure size 288x576 with 2 Axes>"
      ]
     },
     "metadata": {
      "needs_background": "light"
     },
     "output_type": "display_data"
    }
   ],
   "source": [
    "plt.figure(figsize=(4,8))\n",
    "\n",
    "df_corr = df_copy.corr()['attrition'][:]\n",
    "sns.heatmap(df_corr.to_frame(),annot=True,cmap=\"YlGnBu\");\n"
   ]
  },
  {
   "cell_type": "markdown",
   "id": "interracial-brass",
   "metadata": {},
   "source": [
    "we can see some important variables affecting the attrition rate like \n",
    "\n",
    "\n",
    "* employee_age\n",
    "*job_involvement\n",
    "* job_level\n",
    "* income\n",
    "* stock_options\n",
    "* total_working_years\n",
    "* years_in_current_role\n",
    "* years_with_current_manager\n",
    "\n",
    "which have negative correlation\n",
    "\n",
    "while \n",
    "* martial_status\n",
    "* over_time\n",
    "\n",
    "have positive correlation with the attrition"
   ]
  },
  {
   "cell_type": "code",
   "execution_count": 13,
   "id": "tamil-travel",
   "metadata": {},
   "outputs": [
    {
     "data": {
      "image/png": "[encoded data removed]",
      "text/plain": [
       "<Figure size 720x432 with 1 Axes>"
      ]
     },
     "metadata": {
      "needs_background": "light"
     },
     "output_type": "display_data"
    }
   ],
   "source": [
    "# The Distribution of Age\n",
    "age_distribution = df['employee_age'].value_counts().sort_index()/len(df)\n",
    "\n",
    "plt.figure(figsize=(10,6))\n",
    "age_distribution.plot(kind='bar')\n",
    "plt.xlabel('Age',fontsize=14);"
   ]
  },
  {
   "cell_type": "markdown",
   "id": "cooked-welding",
   "metadata": {},
   "source": [
    "### The relation between Age and Attrition"
   ]
  },
  {
   "cell_type": "code",
   "execution_count": 14,
   "id": "norwegian-cylinder",
   "metadata": {},
   "outputs": [
    {
     "data": {
      "text/plain": [
       "<Figure size 720x432 with 0 Axes>"
      ]
     },
     "metadata": {},
     "output_type": "display_data"
    },
    {
     "data": {
      "image/png": "[encoded data removed]",
      "text/plain": [
       "<Figure size 412x360 with 1 Axes>"
      ]
     },
     "metadata": {
      "needs_background": "light"
     },
     "output_type": "display_data"
    }
   ],
   "source": [
    "plt.figure(figsize=(10,6))\n",
    "sns.displot(data=df, x=\"employee_age\", hue=\"attrition\", multiple=\"stack\",palette =\"YlGnBu\" )\n",
    "plt.xticks(rotation=80)\n",
    "plt.xlabel('Employee Age',fontsize=14)\n",
    "plt.show();"
   ]
  },
  {
   "cell_type": "markdown",
   "id": "criminal-prototype",
   "metadata": {},
   "source": [
    "We can see that employees of age between 25 and 40 have a high attrition rate, while old employees have low attrition rate"
   ]
  },
  {
   "cell_type": "markdown",
   "id": "loose-fitting",
   "metadata": {},
   "source": [
    "### Relation between Attrition and Total Working years"
   ]
  },
  {
   "cell_type": "code",
   "execution_count": 15,
   "id": "activated-bibliography",
   "metadata": {},
   "outputs": [
    {
     "data": {
      "text/plain": [
       "<Figure size 720x432 with 0 Axes>"
      ]
     },
     "metadata": {},
     "output_type": "display_data"
    },
    {
     "data": {
      "image/png": "[encoded data removed]",
      "text/plain": [
       "<Figure size 412x360 with 1 Axes>"
      ]
     },
     "metadata": {
      "needs_background": "light"
     },
     "output_type": "display_data"
    }
   ],
   "source": [
    "plt.figure(figsize=(10,6))\n",
    "sns.displot(data=df, x=\"total_working_years\", hue=\"attrition\", multiple=\"stack\",palette =\"YlGnBu\" )\n",
    "plt.xticks(rotation=80)\n",
    "plt.xlabel('Working Years',fontsize=14)\n",
    "plt.show();"
   ]
  },
  {
   "cell_type": "markdown",
   "id": "fantastic-victor",
   "metadata": {},
   "source": [
    "So Employees with working years less than 10 years have a high chance to leave while the attrition rate decreases as working years increases"
   ]
  },
  {
   "cell_type": "markdown",
   "id": "nuclear-serbia",
   "metadata": {},
   "source": [
    "### Relation between Attrition and Income "
   ]
  },
  {
   "cell_type": "code",
   "execution_count": 16,
   "id": "herbal-stand",
   "metadata": {},
   "outputs": [
    {
     "data": {
      "text/plain": [
       "<Figure size 720x432 with 0 Axes>"
      ]
     },
     "metadata": {},
     "output_type": "display_data"
    },
    {
     "data": {
      "image/png": "[encoded data removed]",
      "text/plain": [
       "<Figure size 412x360 with 1 Axes>"
      ]
     },
     "metadata": {
      "needs_background": "light"
     },
     "output_type": "display_data"
    }
   ],
   "source": [
    "plt.figure(figsize=(10,6))\n",
    "sns.displot(data=df, x=\"monthly_income\", hue=\"attrition\", multiple=\"stack\",palette =\"YlGnBu\" )\n",
    "plt.xticks(rotation=80)\n",
    "plt.xlabel('Income',fontsize=14)\n",
    "plt.show();"
   ]
  },
  {
   "cell_type": "markdown",
   "id": "recreational-customs",
   "metadata": {},
   "source": [
    "It is Obvious that Employees with lower monthly income tend to have higher attirion rate than those with higher income"
   ]
  },
  {
   "cell_type": "markdown",
   "id": "standard-distinction",
   "metadata": {},
   "source": [
    "### Relation between Attrition and Employee Department"
   ]
  },
  {
   "cell_type": "code",
   "execution_count": 17,
   "id": "collectible-mercury",
   "metadata": {},
   "outputs": [
    {
     "data": {
      "text/plain": [
       "<Figure size 720x432 with 0 Axes>"
      ]
     },
     "metadata": {},
     "output_type": "display_data"
    },
    {
     "data": {
      "image/png": "[encoded data removed]",
      "text/plain": [
       "<Figure size 412x360 with 1 Axes>"
      ]
     },
     "metadata": {
      "needs_background": "light"
     },
     "output_type": "display_data"
    }
   ],
   "source": [
    "plt.figure(figsize=(10,6))\n",
    "sns.displot(data=df, x=\"employee_department\", hue=\"attrition\", multiple=\"stack\",palette =\"YlGnBu\" )\n",
    "plt.xticks(rotation=80)\n",
    "plt.xlabel('Employee Department',fontsize=14)\n",
    "plt.show();"
   ]
  },
  {
   "cell_type": "code",
   "execution_count": 18,
   "id": "ongoing-image",
   "metadata": {},
   "outputs": [
    {
     "data": {
      "text/html": [
       "<div>\n",
       "<style scoped>\n",
       "    .dataframe tbody tr th:only-of-type {\n",
       "        vertical-align: middle;\n",
       "    }\n",
       "\n",
       "    .dataframe tbody tr th {\n",
       "        vertical-align: top;\n",
       "    }\n",
       "\n",
       "    .dataframe thead th {\n",
       "        text-align: right;\n",
       "    }\n",
       "</style>\n",
       "<table border=\"1\" class=\"dataframe\">\n",
       "  <thead>\n",
       "    <tr style=\"text-align: right;\">\n",
       "      <th>attrition</th>\n",
       "      <th>employee_department</th>\n",
       "      <th>No</th>\n",
       "      <th>Yes</th>\n",
       "      <th>attr_ratio</th>\n",
       "    </tr>\n",
       "    <tr>\n",
       "      <th>index</th>\n",
       "      <th></th>\n",
       "      <th></th>\n",
       "      <th></th>\n",
       "      <th></th>\n",
       "    </tr>\n",
       "  </thead>\n",
       "  <tbody>\n",
       "    <tr>\n",
       "      <th>0</th>\n",
       "      <td>HR Department</td>\n",
       "      <td>87</td>\n",
       "      <td>24</td>\n",
       "      <td>0.22</td>\n",
       "    </tr>\n",
       "    <tr>\n",
       "      <th>1</th>\n",
       "      <td>R&amp;D Department</td>\n",
       "      <td>1427</td>\n",
       "      <td>239</td>\n",
       "      <td>0.14</td>\n",
       "    </tr>\n",
       "    <tr>\n",
       "      <th>2</th>\n",
       "      <td>Sales Department</td>\n",
       "      <td>631</td>\n",
       "      <td>150</td>\n",
       "      <td>0.19</td>\n",
       "    </tr>\n",
       "  </tbody>\n",
       "</table>\n",
       "</div>"
      ],
      "text/plain": [
       "attrition employee_department    No  Yes  attr_ratio\n",
       "index                                               \n",
       "0               HR Department    87   24        0.22\n",
       "1              R&D Department  1427  239        0.14\n",
       "2            Sales Department   631  150        0.19"
      ]
     },
     "execution_count": 18,
     "metadata": {},
     "output_type": "execute_result"
    }
   ],
   "source": [
    "dep_attr = df.groupby('employee_department')['attrition'].value_counts().unstack()\n",
    "\n",
    "dep_attr['attr_ratio'] = (dep_attr.Yes/(dep_attr.Yes+dep_attr.No)).round(2)\n",
    "dep_attr = dep_attr.reset_index()\n",
    "dep_attr.index.names = ['index']\n",
    "dep_attr"
   ]
  },
  {
   "cell_type": "code",
   "execution_count": 19,
   "id": "terminal-enterprise",
   "metadata": {},
   "outputs": [
    {
     "data": {
      "image/png": "[encoded data removed]",
      "text/plain": [
       "<Figure size 720x432 with 1 Axes>"
      ]
     },
     "metadata": {
      "needs_background": "light"
     },
     "output_type": "display_data"
    }
   ],
   "source": [
    "plt.figure(figsize=(10,6))\n",
    "sns.barplot(data = dep_attr ,x ='employee_department' , y ='attr_ratio',palette='YlGnBu')\n",
    "plt.ylabel('Attrition rate',fontsize=14)\n",
    "plt.xlabel('Employee Department',fontsize=14);\n"
   ]
  },
  {
   "cell_type": "markdown",
   "id": "functioning-classic",
   "metadata": {},
   "source": [
    "It looks the department with the most attrition rate is HR Department while R&D Department have the lowest attrition"
   ]
  },
  {
   "cell_type": "markdown",
   "id": "mediterranean-crawford",
   "metadata": {},
   "source": [
    "### Relation between Attrition and Gender"
   ]
  },
  {
   "cell_type": "code",
   "execution_count": 20,
   "id": "racial-growth",
   "metadata": {
    "scrolled": true
   },
   "outputs": [
    {
     "data": {
      "text/plain": [
       "<Figure size 720x576 with 0 Axes>"
      ]
     },
     "metadata": {},
     "output_type": "display_data"
    },
    {
     "data": {
      "image/png": "[encoded data removed]",
      "text/plain": [
       "<Figure size 412x360 with 1 Axes>"
      ]
     },
     "metadata": {
      "needs_background": "light"
     },
     "output_type": "display_data"
    }
   ],
   "source": [
    "plt.figure(figsize=(10,8))\n",
    "sns.displot(data=df, x=\"gender\", hue=\"attrition\", multiple=\"stack\",palette =\"YlGnBu\" )\n",
    "plt.xticks(rotation=80,fontsize=14)\n",
    "plt.xlabel('Gender',fontsize=15)\n",
    "plt.show();"
   ]
  },
  {
   "cell_type": "code",
   "execution_count": 21,
   "id": "younger-intention",
   "metadata": {},
   "outputs": [
    {
     "data": {
      "text/html": [
       "<div>\n",
       "<style scoped>\n",
       "    .dataframe tbody tr th:only-of-type {\n",
       "        vertical-align: middle;\n",
       "    }\n",
       "\n",
       "    .dataframe tbody tr th {\n",
       "        vertical-align: top;\n",
       "    }\n",
       "\n",
       "    .dataframe thead th {\n",
       "        text-align: right;\n",
       "    }\n",
       "</style>\n",
       "<table border=\"1\" class=\"dataframe\">\n",
       "  <thead>\n",
       "    <tr style=\"text-align: right;\">\n",
       "      <th>attrition</th>\n",
       "      <th>gender</th>\n",
       "      <th>No</th>\n",
       "      <th>Yes</th>\n",
       "      <th>attr_ratio</th>\n",
       "    </tr>\n",
       "    <tr>\n",
       "      <th>index</th>\n",
       "      <th></th>\n",
       "      <th></th>\n",
       "      <th></th>\n",
       "      <th></th>\n",
       "    </tr>\n",
       "  </thead>\n",
       "  <tbody>\n",
       "    <tr>\n",
       "      <th>0</th>\n",
       "      <td>Female</td>\n",
       "      <td>885</td>\n",
       "      <td>148</td>\n",
       "      <td>0.14</td>\n",
       "    </tr>\n",
       "    <tr>\n",
       "      <th>1</th>\n",
       "      <td>Male</td>\n",
       "      <td>1260</td>\n",
       "      <td>265</td>\n",
       "      <td>0.17</td>\n",
       "    </tr>\n",
       "  </tbody>\n",
       "</table>\n",
       "</div>"
      ],
      "text/plain": [
       "attrition  gender    No  Yes  attr_ratio\n",
       "index                                   \n",
       "0          Female   885  148        0.14\n",
       "1            Male  1260  265        0.17"
      ]
     },
     "execution_count": 21,
     "metadata": {},
     "output_type": "execute_result"
    }
   ],
   "source": [
    "gender_attr = df.groupby('gender')['attrition'].value_counts().unstack()\n",
    "gender_attr['attr_ratio'] = (gender_attr.Yes/(gender_attr.Yes+gender_attr.No)).round(2)\n",
    "gender_attr = gender_attr.reset_index()\n",
    "gender_attr.index.names = ['index']\n",
    "gender_attr"
   ]
  },
  {
   "cell_type": "markdown",
   "id": "general-thunder",
   "metadata": {},
   "source": [
    "The ratio of male attrition is slightly higher than females "
   ]
  },
  {
   "cell_type": "markdown",
   "id": "reflected-coach",
   "metadata": {},
   "source": [
    "### Relation between Attrition and Job role"
   ]
  },
  {
   "cell_type": "code",
   "execution_count": 22,
   "id": "horizontal-sheet",
   "metadata": {},
   "outputs": [
    {
     "data": {
      "text/plain": [
       "<Figure size 720x576 with 0 Axes>"
      ]
     },
     "metadata": {},
     "output_type": "display_data"
    },
    {
     "data": {
      "image/png": "[encoded data removed]",
      "text/plain": [
       "<Figure size 412x360 with 1 Axes>"
      ]
     },
     "metadata": {
      "needs_background": "light"
     },
     "output_type": "display_data"
    }
   ],
   "source": [
    "plt.figure(figsize=(10,8))\n",
    "sns.displot(data=df, x=\"job_role\", hue=\"attrition\", multiple=\"stack\",palette =\"YlGnBu\" )\n",
    "plt.xticks(rotation=80,fontsize=12)\n",
    "plt.xlabel('Job Role',fontsize=15)\n",
    "plt.ylabel('Count',fontsize=15)\n",
    "plt.show();\n"
   ]
  },
  {
   "cell_type": "code",
   "execution_count": 23,
   "id": "occupied-healing",
   "metadata": {},
   "outputs": [
    {
     "data": {
      "text/html": [
       "<div>\n",
       "<style scoped>\n",
       "    .dataframe tbody tr th:only-of-type {\n",
       "        vertical-align: middle;\n",
       "    }\n",
       "\n",
       "    .dataframe tbody tr th {\n",
       "        vertical-align: top;\n",
       "    }\n",
       "\n",
       "    .dataframe thead th {\n",
       "        text-align: right;\n",
       "    }\n",
       "</style>\n",
       "<table border=\"1\" class=\"dataframe\">\n",
       "  <thead>\n",
       "    <tr style=\"text-align: right;\">\n",
       "      <th>attrition</th>\n",
       "      <th>job_role</th>\n",
       "      <th>No</th>\n",
       "      <th>Yes</th>\n",
       "      <th>attr_ratio</th>\n",
       "    </tr>\n",
       "    <tr>\n",
       "      <th>index</th>\n",
       "      <th></th>\n",
       "      <th></th>\n",
       "      <th></th>\n",
       "      <th></th>\n",
       "    </tr>\n",
       "  </thead>\n",
       "  <tbody>\n",
       "    <tr>\n",
       "      <th>0</th>\n",
       "      <td>HR Personnel</td>\n",
       "      <td>67</td>\n",
       "      <td>24</td>\n",
       "      <td>0.26</td>\n",
       "    </tr>\n",
       "    <tr>\n",
       "      <th>1</th>\n",
       "      <td>Health Representative</td>\n",
       "      <td>223</td>\n",
       "      <td>18</td>\n",
       "      <td>0.07</td>\n",
       "    </tr>\n",
       "    <tr>\n",
       "      <th>2</th>\n",
       "      <td>Lab Technician</td>\n",
       "      <td>347</td>\n",
       "      <td>92</td>\n",
       "      <td>0.21</td>\n",
       "    </tr>\n",
       "    <tr>\n",
       "      <th>3</th>\n",
       "      <td>Manager</td>\n",
       "      <td>168</td>\n",
       "      <td>10</td>\n",
       "      <td>0.06</td>\n",
       "    </tr>\n",
       "    <tr>\n",
       "      <th>4</th>\n",
       "      <td>Production Director</td>\n",
       "      <td>214</td>\n",
       "      <td>18</td>\n",
       "      <td>0.08</td>\n",
       "    </tr>\n",
       "    <tr>\n",
       "      <th>5</th>\n",
       "      <td>R&amp;D Director</td>\n",
       "      <td>137</td>\n",
       "      <td>3</td>\n",
       "      <td>0.02</td>\n",
       "    </tr>\n",
       "    <tr>\n",
       "      <th>6</th>\n",
       "      <td>Sales Executive</td>\n",
       "      <td>473</td>\n",
       "      <td>84</td>\n",
       "      <td>0.15</td>\n",
       "    </tr>\n",
       "    <tr>\n",
       "      <th>7</th>\n",
       "      <td>Sales Rep</td>\n",
       "      <td>89</td>\n",
       "      <td>61</td>\n",
       "      <td>0.41</td>\n",
       "    </tr>\n",
       "    <tr>\n",
       "      <th>8</th>\n",
       "      <td>Scientist</td>\n",
       "      <td>427</td>\n",
       "      <td>103</td>\n",
       "      <td>0.19</td>\n",
       "    </tr>\n",
       "  </tbody>\n",
       "</table>\n",
       "</div>"
      ],
      "text/plain": [
       "attrition               job_role   No  Yes  attr_ratio\n",
       "index                                                 \n",
       "0                   HR Personnel   67   24        0.26\n",
       "1          Health Representative  223   18        0.07\n",
       "2                 Lab Technician  347   92        0.21\n",
       "3                        Manager  168   10        0.06\n",
       "4            Production Director  214   18        0.08\n",
       "5                   R&D Director  137    3        0.02\n",
       "6                Sales Executive  473   84        0.15\n",
       "7                      Sales Rep   89   61        0.41\n",
       "8                      Scientist  427  103        0.19"
      ]
     },
     "execution_count": 23,
     "metadata": {},
     "output_type": "execute_result"
    }
   ],
   "source": [
    "role_attr = df.groupby('job_role')['attrition'].value_counts().unstack()\n",
    "role_attr['attr_ratio'] = (role_attr.Yes/(role_attr.Yes+role_attr.No)).round(2)\n",
    "role_attr = role_attr.reset_index()\n",
    "role_attr.index.names = ['index']\n",
    "role_attr"
   ]
  },
  {
   "cell_type": "code",
   "execution_count": 24,
   "id": "textile-education",
   "metadata": {},
   "outputs": [
    {
     "data": {
      "image/png": "[encoded data removed]",
      "text/plain": [
       "<Figure size 720x432 with 1 Axes>"
      ]
     },
     "metadata": {
      "needs_background": "light"
     },
     "output_type": "display_data"
    }
   ],
   "source": [
    "plt.figure(figsize=(10,6))\n",
    "sns.barplot(data = role_attr ,x ='job_role' , y ='attr_ratio',palette='YlGnBu')\n",
    "plt.xticks(rotation=80);\n"
   ]
  },
  {
   "cell_type": "markdown",
   "id": "provincial-dublin",
   "metadata": {},
   "source": [
    "we can see that the attrition rate for Sales Rep, scientists and HR Personnel are very high while R&D Directors have nearly zero attritions"
   ]
  },
  {
   "cell_type": "markdown",
   "id": "laden-hours",
   "metadata": {},
   "source": [
    "### Relation between Attrition and Marital Status"
   ]
  },
  {
   "cell_type": "code",
   "execution_count": 25,
   "id": "threatened-interstate",
   "metadata": {},
   "outputs": [
    {
     "data": {
      "text/plain": [
       "<Figure size 720x576 with 0 Axes>"
      ]
     },
     "metadata": {},
     "output_type": "display_data"
    },
    {
     "data": {
      "image/png": "[encoded data removed]",
      "text/plain": [
       "<Figure size 412x360 with 1 Axes>"
      ]
     },
     "metadata": {
      "needs_background": "light"
     },
     "output_type": "display_data"
    }
   ],
   "source": [
    "plt.figure(figsize=(10,8))\n",
    "sns.displot(data=df, x=\"marital_status\", hue=\"attrition\", multiple=\"stack\",palette =\"YlGnBu\" )\n",
    "plt.xticks(rotation=80,fontsize=14)\n",
    "plt.xlabel('Marital Status',fontsize=15)\n",
    "plt.show();"
   ]
  },
  {
   "cell_type": "markdown",
   "id": "otherwise-rabbit",
   "metadata": {},
   "source": [
    "So the divorced employees tend to stay at their jobs with low attrition rate while singles employees have high Attrition rate"
   ]
  },
  {
   "cell_type": "markdown",
   "id": "bronze-bradford",
   "metadata": {},
   "source": [
    "Let's investigate the effect of Over time on Attrition"
   ]
  },
  {
   "cell_type": "markdown",
   "id": "governing-crisis",
   "metadata": {},
   "source": [
    "### Relation between Attrition and Over Time"
   ]
  },
  {
   "cell_type": "code",
   "execution_count": 26,
   "id": "transsexual-liver",
   "metadata": {},
   "outputs": [
    {
     "data": {
      "text/plain": [
       "<Figure size 720x576 with 0 Axes>"
      ]
     },
     "metadata": {},
     "output_type": "display_data"
    },
    {
     "data": {
      "image/png": "[encoded data removed]",
      "text/plain": [
       "<Figure size 412x360 with 1 Axes>"
      ]
     },
     "metadata": {
      "needs_background": "light"
     },
     "output_type": "display_data"
    }
   ],
   "source": [
    "plt.figure(figsize=(10,8))\n",
    "sns.displot(data=df, x=\"over_time\", hue=\"attrition\", multiple=\"stack\",palette =\"YlGnBu\" )\n",
    "plt.xticks(rotation=80,fontsize=14)\n",
    "plt.xlabel('Over Time',fontsize=15)\n",
    "plt.show();"
   ]
  },
  {
   "cell_type": "markdown",
   "id": "minor-deviation",
   "metadata": {},
   "source": [
    "We can see that employees that do over time have higher attrition rate than others"
   ]
  },
  {
   "cell_type": "markdown",
   "id": "religious-weekend",
   "metadata": {},
   "source": [
    "And now Let's investigate the effect of Travel in Job on Attrition"
   ]
  },
  {
   "cell_type": "markdown",
   "id": "dressed-metabolism",
   "metadata": {},
   "source": [
    "### Relation between Attrition and Travel in job"
   ]
  },
  {
   "cell_type": "code",
   "execution_count": 27,
   "id": "searching-official",
   "metadata": {},
   "outputs": [
    {
     "data": {
      "text/plain": [
       "<Figure size 720x576 with 0 Axes>"
      ]
     },
     "metadata": {},
     "output_type": "display_data"
    },
    {
     "data": {
      "image/png": "[encoded data removed]",
      "text/plain": [
       "<Figure size 412x360 with 1 Axes>"
      ]
     },
     "metadata": {
      "needs_background": "light"
     },
     "output_type": "display_data"
    }
   ],
   "source": [
    "plt.figure(figsize=(10,8))\n",
    "sns.displot(data=df, x=\"travel_in_job\", hue=\"attrition\", multiple=\"stack\",palette =\"YlGnBu\" )\n",
    "plt.xticks(rotation=80,fontsize=14)\n",
    "plt.xlabel('Travel In Job',fontsize=15)\n",
    "plt.show();"
   ]
  },
  {
   "cell_type": "code",
   "execution_count": 28,
   "id": "enormous-entry",
   "metadata": {},
   "outputs": [
    {
     "data": {
      "text/html": [
       "<div>\n",
       "<style scoped>\n",
       "    .dataframe tbody tr th:only-of-type {\n",
       "        vertical-align: middle;\n",
       "    }\n",
       "\n",
       "    .dataframe tbody tr th {\n",
       "        vertical-align: top;\n",
       "    }\n",
       "\n",
       "    .dataframe thead th {\n",
       "        text-align: right;\n",
       "    }\n",
       "</style>\n",
       "<table border=\"1\" class=\"dataframe\">\n",
       "  <thead>\n",
       "    <tr style=\"text-align: right;\">\n",
       "      <th>attrition</th>\n",
       "      <th>travel_in_job</th>\n",
       "      <th>No</th>\n",
       "      <th>Yes</th>\n",
       "      <th>attr_ratio</th>\n",
       "    </tr>\n",
       "    <tr>\n",
       "      <th>index</th>\n",
       "      <th></th>\n",
       "      <th></th>\n",
       "      <th></th>\n",
       "      <th></th>\n",
       "    </tr>\n",
       "  </thead>\n",
       "  <tbody>\n",
       "    <tr>\n",
       "      <th>0</th>\n",
       "      <td>frequently</td>\n",
       "      <td>369</td>\n",
       "      <td>124</td>\n",
       "      <td>0.25</td>\n",
       "    </tr>\n",
       "    <tr>\n",
       "      <th>1</th>\n",
       "      <td>never</td>\n",
       "      <td>227</td>\n",
       "      <td>27</td>\n",
       "      <td>0.11</td>\n",
       "    </tr>\n",
       "    <tr>\n",
       "      <th>2</th>\n",
       "      <td>rarely</td>\n",
       "      <td>1549</td>\n",
       "      <td>262</td>\n",
       "      <td>0.14</td>\n",
       "    </tr>\n",
       "  </tbody>\n",
       "</table>\n",
       "</div>"
      ],
      "text/plain": [
       "attrition travel_in_job    No  Yes  attr_ratio\n",
       "index                                         \n",
       "0            frequently   369  124        0.25\n",
       "1                 never   227   27        0.11\n",
       "2                rarely  1549  262        0.14"
      ]
     },
     "execution_count": 28,
     "metadata": {},
     "output_type": "execute_result"
    }
   ],
   "source": [
    "travel_attr = df.groupby('travel_in_job')['attrition'].value_counts().unstack()\n",
    "travel_attr['attr_ratio'] = (travel_attr.Yes/(travel_attr.Yes+travel_attr.No)).round(2)\n",
    "travel_attr = travel_attr.reset_index()\n",
    "travel_attr.index.names = ['index']\n",
    "travel_attr"
   ]
  },
  {
   "cell_type": "code",
   "execution_count": 29,
   "id": "gorgeous-bowling",
   "metadata": {},
   "outputs": [
    {
     "data": {
      "image/png": "[encoded data removed]",
      "text/plain": [
       "<Figure size 720x432 with 1 Axes>"
      ]
     },
     "metadata": {
      "needs_background": "light"
     },
     "output_type": "display_data"
    }
   ],
   "source": [
    "plt.figure(figsize=(10,6))\n",
    "sns.barplot(data = travel_attr ,x ='travel_in_job' , y ='attr_ratio',palette='YlGnBu')\n",
    "plt.xticks(fontsize=14)\n",
    "plt.xlabel('Travel in Job',fontsize=14);"
   ]
  },
  {
   "cell_type": "markdown",
   "id": "israeli-provision",
   "metadata": {},
   "source": [
    "So employees who travel frequently have a higher Attrition rate than those who rarely or never travel"
   ]
  },
  {
   "cell_type": "markdown",
   "id": "introductory-medicaid",
   "metadata": {},
   "source": [
    "## 2- Supervised Machine-Learning to predict Attritions"
   ]
  },
  {
   "cell_type": "code",
   "execution_count": 45,
   "id": "unauthorized-primary",
   "metadata": {},
   "outputs": [],
   "source": [
    "#importing the sklearn classifiers packages \n",
    "from sklearn.svm import SVC\n",
    "from sklearn.ensemble import RandomForestClassifier\n",
    "from sklearn.tree import DecisionTreeClassifier\n",
    "\n",
    "from sklearn.model_selection import train_test_split\n",
    "\n",
    "from sklearn.metrics import accuracy_score,f1_score , confusion_matrix"
   ]
  },
  {
   "cell_type": "code",
   "execution_count": 46,
   "id": "golden-score",
   "metadata": {},
   "outputs": [
    {
     "name": "stdout",
     "output_type": "stream",
     "text": [
      "Training set has 1918 samples.\n",
      "Testing set has 640 samples.\n"
     ]
    }
   ],
   "source": [
    "feature_columns = ['employee_age','over_time','marital_status','total_working_years','job_level',\n",
    "                   'monthly_income','years_in_current_role']\n",
    "\n",
    "#numerical_variables=['employee_age','total_working_years','job_level','monthly_income','years_in_current_role']\n",
    "\n",
    "X = pd.get_dummies(df[feature_columns])\n",
    "y = df['attrition']\n",
    "X_train, X_test, y_train, y_test = train_test_split(X,y,\n",
    "                                                   test_size = 0.25,\n",
    "                                                   random_state = 0)\n",
    "\n",
    "# Show the results of the split\n",
    "print(\"Training set has {} samples.\".format(X_train.shape[0]))\n",
    "print(\"Testing set has {} samples.\".format(X_test.shape[0]))"
   ]
  },
  {
   "cell_type": "code",
   "execution_count": 69,
   "id": "exciting-kuwait",
   "metadata": {},
   "outputs": [],
   "source": [
    "def model_evaluate(model, X_train, y_train, X_test, y_test):\n",
    "    model = model.fit(X_train,y_train)\n",
    "    \n",
    "    preds = model.predict(X_test)\n",
    "    \n",
    "    accuracy = accuracy_score(y_test,preds)\n",
    "    f1_s = f1_score(y_test,preds,average = 'weighted')\n",
    "    cm = confusion_matrix(y_test,preds)\n",
    "    \n",
    "    return accuracy ,f1_s , cm"
   ]
  },
  {
   "cell_type": "code",
   "execution_count": 70,
   "id": "junior-master",
   "metadata": {},
   "outputs": [],
   "source": [
    "svm_classifier = SVC(random_state = 42)\n",
    "rf_classifier = RandomForestClassifier(random_state = 42)\n",
    "dt_classifier = DecisionTreeClassifier(random_state = 42)"
   ]
  },
  {
   "cell_type": "code",
   "execution_count": 73,
   "id": "gross-china",
   "metadata": {},
   "outputs": [
    {
     "name": "stdout",
     "output_type": "stream",
     "text": [
      "Accuracy of SVC(random_state=42) is : 0.828125 \n",
      " and f1_score is : 0.750267094017094 \n",
      " and confusion_matrix is \n",
      " [[530   0]\n",
      " [110   0]] \n",
      "\n",
      "Accuracy of RandomForestClassifier(random_state=42) is : 0.9328125 \n",
      " and f1_score is : 0.9282569568717598 \n",
      " and confusion_matrix is \n",
      " [[524   6]\n",
      " [ 37  73]] \n",
      "\n",
      "Accuracy of DecisionTreeClassifier(random_state=42) is : 0.890625 \n",
      " and f1_score is : 0.8910143011631669 \n",
      " and confusion_matrix is \n",
      " [[494  36]\n",
      " [ 34  76]] \n",
      "\n"
     ]
    }
   ],
   "source": [
    "for model in [svm_classifier,rf_classifier,dt_classifier]:\n",
    "    acc ,f1_s, cm = model_evaluate(model, X_train, y_train, X_test, y_test)\n",
    "    print(f'Accuracy of {model} is : {acc} \\n and f1_score is : {f1_s} \\n and confusion_matrix is \\n {cm} \\n')"
   ]
  },
  {
   "cell_type": "markdown",
   "id": "biological-minutes",
   "metadata": {},
   "source": [
    "As we see the accuracy of the models are higher than 0.82 and the f1_score is higher than 0.89 except with the svm classifier with 0.75 but still good as it conveys the balance between the precision and the recall.\n",
    "\n",
    "and the confusion matrix of SVM gives a large number of false negatives and 0 false positives, while with RandomForest \n",
    "it gives a very good results with only 6 false positives and 37 false negatives ,and with DecisionTree it gives 36 false positives and 34 false negatives.\n",
    "\n",
    "From the results above we can say that the RandomForest Classifier is the best model for this job with the highest accuracy 0.93 and highest f1-score 0.92 and good confusion matrix resuls."
   ]
  },
  {
   "cell_type": "code",
   "execution_count": 81,
   "id": "ongoing-reaction",
   "metadata": {},
   "outputs": [
    {
     "data": {
      "text/plain": [
       "monthly_income             0.318147\n",
       "employee_age               0.201976\n",
       "total_working_years        0.161195\n",
       "years_in_current_role      0.109303\n",
       "job_level                  0.050422\n",
       "over_time_Yes              0.049584\n",
       "over_time_No               0.040792\n",
       "marital_status_Single      0.034818\n",
       "marital_status_Married     0.017152\n",
       "marital_status_Divorced    0.016611\n",
       "dtype: float64"
      ]
     },
     "execution_count": 81,
     "metadata": {},
     "output_type": "execute_result"
    }
   ],
   "source": [
    "#investigating the features importance in the model\n",
    "important_features = pd.Series(data=rf_classifier.feature_importances_,index=X.columns)\n",
    "important_features.sort_values(ascending=False,inplace=True)\n",
    "important_features"
   ]
  },
  {
   "cell_type": "markdown",
   "id": "everyday-steps",
   "metadata": {},
   "source": [
    "And as see the monthly income has a very large impact on attrition rate followed by the employee age and the total_working_hours and years in the current role"
   ]
  },
  {
   "cell_type": "code",
   "execution_count": null,
   "id": "greatest-ambassador",
   "metadata": {},
   "outputs": [],
   "source": []
  }
 ],
 "metadata": {
  "kernelspec": {
   "display_name": "Python 3",
   "language": "python",
   "name": "python3"
  },
  "language_info": {
   "codemirror_mode": {
    "name": "ipython",
    "version": 3
   },
   "file_extension": ".py",
   "mimetype": "text/x-python",
   "name": "python",
   "nbconvert_exporter": "python",
   "pygments_lexer": "ipython3",
   "version": "3.8.5"
  }
 },
 "nbformat": 4,
 "nbformat_minor": 5
}
